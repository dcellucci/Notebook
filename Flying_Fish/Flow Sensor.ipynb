{
 "cells": [
  {
   "cell_type": "markdown",
   "metadata": {},
   "source": [
    "# Flow Sensor\n",
    "\n",
    "_Daniel Cellucci, Joseph Kim, Kenneth C. Cheung, Sean S. Swei_\n",
    "\n",
    "Local logic and processing reduces overhead for the sensing apparatus and vastly increases the responsiveness of the system, allowing live sampling of the dynamic behavior of the airflow. We are seeking to augment the morphing wing with MEMS sensors that can perform this local processing."
   ]
  },
  {
   "cell_type": "markdown",
   "metadata": {},
   "source": [
    "## The LPS25H \n",
    "\n",
    "One such device that we'd like to use is the LPS25H from ST Microelectronics. Its features include:\n",
    "\n",
    " * Resilient MEMS sensing element\n",
    " * 260 to 1260 hPa absolute pressure range\n",
    " * HR Mode with 1 Pa RMS\n",
    " * Embedded 24-bit ADC\n",
    " * Embedded FIFO allowing on-chip averaging or buffering\n",
    " \n",
    "Many of these sensors can then be connected through a SPI bus to a nearby microcontroller that collects samples from each sensor and transmits them to the control hardware. "
   ]
  },
  {
   "cell_type": "markdown",
   "metadata": {},
   "source": [
    "<img src=\"media/LPS25H_dim.png\" width=500px>"
   ]
  },
  {
   "cell_type": "markdown",
   "metadata": {
    "collapsed": false
   },
   "source": [
    "## Sensor Unit\n",
    "\n",
    "LPS25H can communicate using SPI or I2C bus. \n"
   ]
  },
  {
   "cell_type": "code",
   "execution_count": null,
   "metadata": {
    "collapsed": true
   },
   "outputs": [],
   "source": []
  }
 ],
 "metadata": {
  "kernelspec": {
   "display_name": "Python 2",
   "language": "python",
   "name": "python2"
  },
  "language_info": {
   "codemirror_mode": {
    "name": "ipython",
    "version": 2
   },
   "file_extension": ".py",
   "mimetype": "text/x-python",
   "name": "python",
   "nbconvert_exporter": "python",
   "pygments_lexer": "ipython2",
   "version": "2.7.9"
  }
 },
 "nbformat": 4,
 "nbformat_minor": 0
}
