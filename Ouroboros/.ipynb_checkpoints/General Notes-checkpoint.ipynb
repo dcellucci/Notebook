{
 "cells": [
  {
   "cell_type": "markdown",
   "metadata": {},
   "source": [
    "# Research Notes\n",
    "\n",
    "Regarding the Ouroboros and OuroboroSat Project"
   ]
  },
  {
   "cell_type": "markdown",
   "metadata": {},
   "source": [
    "## TODOs\n",
    "\n",
    "  * Characterize the relevant thermal environment for Ouroboros and OuroboroSat\n",
    "  * [P] Performance comparison of LiPo, LiFePO4, and other batteries in the relevant environment\n",
    "  \n",
    "[P] means possible TODO, need to think harder about it."
   ]
  },
  {
   "cell_type": "markdown",
   "metadata": {},
   "source": [
    "## 2015 10 14\n",
    "\n",
    "Possible battery technology of interest: Lithium Thionyl Chloride\n",
    "\n",
    "Very good storage behavior and incredible energy density. Noted poor discharge performance (perhaps I am misreading)\n",
    "\n",
    "EE Times review of the chemistry: http://www.eetimes.com/author.asp?section_id=36&doc_id=1322276\n",
    "\n",
    "Suppliers:\n",
    "\n",
    "  * http://eaglepicher.com/technologies/battery-power/lithium-thionyl-chloride\n",
    "  * http://tadiranbat.com/index.php/product-overview\n"
   ]
  },
  {
   "cell_type": "code",
   "execution_count": null,
   "metadata": {
    "collapsed": true
   },
   "outputs": [],
   "source": []
  }
 ],
 "metadata": {
  "kernelspec": {
   "display_name": "Python 2",
   "language": "python",
   "name": "python2"
  },
  "language_info": {
   "codemirror_mode": {
    "name": "ipython",
    "version": 2
   },
   "file_extension": ".py",
   "mimetype": "text/x-python",
   "name": "python",
   "nbconvert_exporter": "python",
   "pygments_lexer": "ipython2",
   "version": "2.7.9"
  }
 },
 "nbformat": 4,
 "nbformat_minor": 0
}
