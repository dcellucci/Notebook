{
 "cells": [
  {
   "cell_type": "markdown",
   "metadata": {},
   "source": [
    "# Literature Review\n",
    "\n",
    "The current state of the art"
   ]
  },
  {
   "cell_type": "markdown",
   "metadata": {},
   "source": [
    "## Reliability Allocation and Optimization for Complex Systems\n",
    "\n",
    "Adamantios Mettas\n",
    "\n",
    "2000 PROCEEDINGS Annual RELIABILITY and MAINTAINABILITY Symposium, IEEE\n",
    "\n",
    "### Synopsis\n",
    "\n",
    "**Consider:** A system is composed of $n$ components, each of which has reliability $R_i$. The desired overall reliability of this system is $R_G$. \n",
    "\n",
    "**Core Question:** Which component or set of components should be made more reliable to attain $R_G$?\n",
    "\n",
    "**Assume:** The cost of improving a component is:\n",
    "\n",
    "$$\n",
    "c_i(R_i;f_i,R_{i,min},R_{i,max}) = e^{\\left[(1-f_i)\\cdot\\frac{R_i-R_{i,min}}{R_{i,max}-R_i}\\right]}\n",
    "$$\n",
    "\n",
    "That is, exponential behavior with an asymptote at $R_{i,max}$, the maximum possible reliability. Other parameters are $R_{i,min}$, the initial reliability, and $f_i$, the feasibility, or how quickly the cost to make something more reliable scales. \n",
    "\n",
    "\n",
    "Various configurations of components are explored, with different starting reliabilities, feasibilities, and maximum reliabilities. Finally, a complex, interconnected system of components is shown and analyzed using BlockSim."
   ]
  },
  {
   "cell_type": "markdown",
   "metadata": {},
   "source": [
    "## Optimization of Systems Reliability \n",
    "Tillman, Frank A., Hwang, Ching Lai, and Kuo, Way \n",
    "\n",
    "1980 Marcel Dekker, Inc. 1980"
   ]
  },
  {
   "cell_type": "code",
   "execution_count": null,
   "metadata": {
    "collapsed": true
   },
   "outputs": [],
   "source": []
  }
 ],
 "metadata": {
  "kernelspec": {
   "display_name": "Python 2",
   "language": "python",
   "name": "python2"
  },
  "language_info": {
   "codemirror_mode": {
    "name": "ipython",
    "version": 2
   },
   "file_extension": ".py",
   "mimetype": "text/x-python",
   "name": "python",
   "nbconvert_exporter": "python",
   "pygments_lexer": "ipython2",
   "version": "2.7.9"
  }
 },
 "nbformat": 4,
 "nbformat_minor": 0
}
